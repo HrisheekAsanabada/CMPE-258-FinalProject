{
  "nbformat": 4,
  "nbformat_minor": 0,
  "metadata": {
    "colab": {
      "provenance": []
    },
    "kernelspec": {
      "name": "python3",
      "display_name": "Python 3"
    },
    "language_info": {
      "name": "python"
    }
  },
  "cells": [
    {
      "cell_type": "code",
      "execution_count": null,
      "metadata": {
        "colab": {
          "base_uri": "https://localhost:8080/"
        },
        "id": "7tFYYaNWb1ay",
        "outputId": "e7dc04fd-5755-40d1-8a1d-876f031cd589"
      },
      "outputs": [
        {
          "output_type": "stream",
          "name": "stdout",
          "text": [
            "Mounted at /content/drive\n"
          ]
        }
      ],
      "source": [
        "from google.colab import drive\n",
        "drive.mount('/content/drive')"
      ]
    },
    {
      "cell_type": "code",
      "source": [
        "import os\n",
        "import pandas as pd\n",
        "import numpy as np\n",
        "import librosa\n",
        "import librosa.display\n",
        "import matplotlib.pyplot as plt\n",
        "from sklearn.preprocessing import StandardScaler, LabelEncoder\n",
        "from sklearn.model_selection import train_test_split\n",
        "from sklearn.utils.class_weight import compute_class_weight\n",
        "from sklearn.metrics import classification_report, confusion_matrix\n",
        "import seaborn as sns\n",
        "from tensorflow.keras import Sequential\n",
        "from tensorflow.keras.layers import Dense, Dropout, BatchNormalization\n"
      ],
      "metadata": {
        "id": "iZS-Df-gb2KM"
      },
      "execution_count": null,
      "outputs": []
    },
    {
      "cell_type": "code",
      "source": [
        "SAVEE_PATH = \"/content/drive/MyDrive/ALL\"\n",
        "\n",
        "def create_savee_df(data_path):\n",
        "    file_emotion = []\n",
        "    file_path = []\n",
        "    for filename in os.listdir(data_path):\n",
        "        if filename.endswith(\".wav\"):\n",
        "            file_path.append(os.path.join(data_path, filename))\n",
        "            part = filename.split('_')[1]\n",
        "            ele = part[:-6]\n",
        "            if ele == 'a': file_emotion.append('angry')\n",
        "            elif ele == 'd': file_emotion.append('disgust')\n",
        "            elif ele == 'f': file_emotion.append('fear')\n",
        "            elif ele == 'h': file_emotion.append('happy')\n",
        "            elif ele == 'n': file_emotion.append('neutral')\n",
        "            elif ele == 'sa': file_emotion.append('sad')\n",
        "            else: file_emotion.append('surprise')\n",
        "    return pd.DataFrame({'Emotions': file_emotion, 'Path': file_path})\n",
        "\n",
        "df = create_savee_df(SAVEE_PATH)\n",
        "print(f\"Total files: {len(df)}\")\n",
        "print(\"\\nEmotion Distribution:\\n\", df['Emotions'].value_counts())\n",
        "\n",
        "# Plot emotion distribution\n",
        "plt.figure(figsize=(10, 6))\n",
        "sns.barplot(x=df['Emotions'].value_counts().index, y=df['Emotions'].value_counts().values, palette=\"viridis\")\n",
        "plt.title(\"Emotion Distribution in SAVEE Dataset\")\n",
        "plt.ylabel(\"Count\")\n",
        "plt.xlabel(\"Emotion\")\n",
        "plt.show()\n"
      ],
      "metadata": {
        "id": "vrNCHxKncDqf",
        "colab": {
          "base_uri": "https://localhost:8080/",
          "height": 730
        },
        "outputId": "9b536f4c-95f7-46df-b4dd-f425901f6ec3"
      },
      "execution_count": null,
      "outputs": [
        {
          "output_type": "stream",
          "name": "stdout",
          "text": [
            "Total files: 480\n",
            "\n",
            "Emotion Distribution:\n",
            " Emotions\n",
            "neutral     120\n",
            "angry        60\n",
            "disgust      60\n",
            "fear         60\n",
            "happy        60\n",
            "sad          60\n",
            "surprise     60\n",
            "Name: count, dtype: int64\n"
          ]
        },
        {
          "output_type": "stream",
          "name": "stderr",
          "text": [
            "<ipython-input-11-f1935915d19b>:26: FutureWarning: \n",
            "\n",
            "Passing `palette` without assigning `hue` is deprecated and will be removed in v0.14.0. Assign the `x` variable to `hue` and set `legend=False` for the same effect.\n",
            "\n",
            "  sns.barplot(x=df['Emotions'].value_counts().index, y=df['Emotions'].value_counts().values, palette=\"viridis\")\n"
          ]
        },
        {
          "output_type": "display_data",
          "data": {
            "text/plain": [
              "<Figure size 1000x600 with 1 Axes>"
            ],
            "image/png": "[encoded data removed]"
          },
          "metadata": {}
        }
      ]
    },
    {
      "cell_type": "code",
      "source": [
        "def extract_features(audio, sr=None):\n",
        "    if isinstance(audio, str):\n",
        "        audio, sr = librosa.load(audio, duration=2.5, offset=0.5)\n",
        "    elif sr is None:\n",
        "        raise ValueError(\"Sample rate must be provided.\")\n",
        "\n",
        "    mfcc = np.mean(librosa.feature.mfcc(y=audio, sr=sr, n_mfcc=40).T, axis=0)\n",
        "    rms = np.mean(librosa.feature.rms(y=audio))\n",
        "    chroma = np.mean(librosa.feature.chroma_stft(y=audio, sr=sr).T, axis=0)\n",
        "    spectral_contrast = np.mean(librosa.feature.spectral_contrast(y=audio, sr=sr).T, axis=0)\n",
        "\n",
        "    return np.hstack([mfcc, rms, chroma, spectral_contrast])\n",
        "\n",
        "# Feature Extraction\n",
        "X = []\n",
        "y = []\n",
        "\n",
        "for index, row in df.iterrows():\n",
        "    features = extract_features(row['Path'])\n",
        "    X.append(features)\n",
        "    y.append(row['Emotions'])\n",
        "\n",
        "X = np.array(X)\n",
        "y = np.array(y)\n",
        "\n",
        "# Standardize Features\n",
        "from sklearn.preprocessing import StandardScaler\n",
        "scaler = StandardScaler()\n",
        "X = scaler.fit_transform(X)\n"
      ],
      "metadata": {
        "id": "eISKFcVigBzL"
      },
      "execution_count": null,
      "outputs": []
    },
    {
      "cell_type": "code",
      "source": [
        "X, y = [], []\n",
        "for emotion, path in zip(df['Emotions'], df['Path']):\n",
        "    for variant in augment_audio(path):\n",
        "        features = extract_features(variant)\n",
        "        X.append(features)\n",
        "        y.append(emotion)\n",
        "\n",
        "X = np.array(X, dtype=np.float32)\n",
        "y = np.array(y)\n",
        "\n",
        "# Encode labels\n",
        "encoder = LabelEncoder()\n",
        "y_encoded = encoder.fit_transform(y)"
      ],
      "metadata": {
        "id": "vAwoyNDXgGj6"
      },
      "execution_count": null,
      "outputs": []
    },
    {
      "cell_type": "code",
      "source": [
        "X_train, X_temp, y_train, y_temp = train_test_split(X, y_encoded, test_size=0.3, stratify=y_encoded, random_state=42)\n",
        "X_val, X_test, y_val, y_test = train_test_split(X_temp, y_temp, test_size=0.5, stratify=y_temp, random_state=42)\n",
        "\n",
        "print(f\"Train: {len(X_train)}, Validation: {len(X_val)}, Test: {len(X_test)}\")\n",
        "\n"
      ],
      "metadata": {
        "colab": {
          "base_uri": "https://localhost:8080/"
        },
        "id": "N2w2Hm-SgLyw",
        "outputId": "46996b79-589b-46ee-9f68-a9a140ec4a5c"
      },
      "execution_count": null,
      "outputs": [
        {
          "output_type": "stream",
          "name": "stdout",
          "text": [
            "Train: 1008, Validation: 216, Test: 216\n"
          ]
        }
      ]
    },
    {
      "cell_type": "code",
      "source": [
        "model = Sequential([\n",
        "    Input(shape=(X_train.shape[1],)),  # Input layer\n",
        "    Dense(256, activation='relu'),\n",
        "    BatchNormalization(),\n",
        "    Dropout(0.3),\n",
        "    Dense(128, activation='relu'),\n",
        "    BatchNormalization(),\n",
        "    Dropout(0.3),\n",
        "    Dense(64, activation='relu'),\n",
        "    Dropout(0.3),\n",
        "    Dense(len(encoder.classes_), activation='softmax')\n",
        "])\n",
        "\n",
        "# Compile the model\n",
        "model.compile(optimizer='adam', loss='sparse_categorical_crossentropy', metrics=['accuracy'])\n",
        "\n",
        "# Compute class weights\n",
        "class_weights = compute_class_weight('balanced', classes=np.unique(y_train), y=y_train)\n",
        "class_weights_dict = {i: class_weights[i] for i in range(len(class_weights))}\n"
      ],
      "metadata": {
        "id": "1cDqvArlgO43"
      },
      "execution_count": null,
      "outputs": []
    },
    {
      "cell_type": "code",
      "source": [
        "# Step 6: Train the Model\n",
        "history = model.fit(\n",
        "    X_train, y_train,\n",
        "    validation_data=(X_val, y_val),\n",
        "    epochs=50,\n",
        "    batch_size=16,\n",
        "    class_weight=class_weights_dict,\n",
        "    verbose=1\n",
        ")\n"
      ],
      "metadata": {
        "colab": {
          "base_uri": "https://localhost:8080/"
        },
        "id": "VF95sXiYgeqF",
        "outputId": "59a8165a-b01e-4dba-a938-ee0376b1927c"
      },
      "execution_count": null,
      "outputs": [
        {
          "output_type": "stream",
          "name": "stdout",
          "text": [
            "Epoch 1/50\n",
            "\u001b[1m63/63\u001b[0m \u001b[32m━━━━━━━━━━━━━━━━━━━━\u001b[0m\u001b[37m\u001b[0m \u001b[1m3s\u001b[0m 7ms/step - accuracy: 0.2019 - loss: 2.4795 - val_accuracy: 0.2870 - val_loss: 2.0396\n",
            "Epoch 2/50\n",
            "\u001b[1m63/63\u001b[0m \u001b[32m━━━━━━━━━━━━━━━━━━━━\u001b[0m\u001b[37m\u001b[0m \u001b[1m0s\u001b[0m 4ms/step - accuracy: 0.3278 - loss: 1.8073 - val_accuracy: 0.4028 - val_loss: 1.5471\n",
            "Epoch 3/50\n",
            "\u001b[1m63/63\u001b[0m \u001b[32m━━━━━━━━━━━━━━━━━━━━\u001b[0m\u001b[37m\u001b[0m \u001b[1m0s\u001b[0m 4ms/step - accuracy: 0.3417 - loss: 1.7432 - val_accuracy: 0.3796 - val_loss: 1.3542\n",
            "Epoch 4/50\n",
            "\u001b[1m63/63\u001b[0m \u001b[32m━━━━━━━━━━━━━━━━━━━━\u001b[0m\u001b[37m\u001b[0m \u001b[1m0s\u001b[0m 4ms/step - accuracy: 0.3618 - loss: 1.6365 - val_accuracy: 0.4167 - val_loss: 1.2983\n",
            "Epoch 5/50\n",
            "\u001b[1m63/63\u001b[0m \u001b[32m━━━━━━━━━━━━━━━━━━━━\u001b[0m\u001b[37m\u001b[0m \u001b[1m0s\u001b[0m 3ms/step - accuracy: 0.3994 - loss: 1.5206 - val_accuracy: 0.4306 - val_loss: 1.2216\n",
            "Epoch 6/50\n",
            "\u001b[1m63/63\u001b[0m \u001b[32m━━━━━━━━━━━━━━━━━━━━\u001b[0m\u001b[37m\u001b[0m \u001b[1m0s\u001b[0m 4ms/step - accuracy: 0.3969 - loss: 1.5083 - val_accuracy: 0.4491 - val_loss: 1.1869\n",
            "Epoch 7/50\n",
            "\u001b[1m63/63\u001b[0m \u001b[32m━━━━━━━━━━━━━━━━━━━━\u001b[0m\u001b[37m\u001b[0m \u001b[1m0s\u001b[0m 4ms/step - accuracy: 0.3615 - loss: 1.5098 - val_accuracy: 0.4954 - val_loss: 1.1438\n",
            "Epoch 8/50\n",
            "\u001b[1m63/63\u001b[0m \u001b[32m━━━━━━━━━━━━━━━━━━━━\u001b[0m\u001b[37m\u001b[0m \u001b[1m0s\u001b[0m 3ms/step - accuracy: 0.3920 - loss: 1.4977 - val_accuracy: 0.4954 - val_loss: 1.1239\n",
            "Epoch 9/50\n",
            "\u001b[1m63/63\u001b[0m \u001b[32m━━━━━━━━━━━━━━━━━━━━\u001b[0m\u001b[37m\u001b[0m \u001b[1m0s\u001b[0m 3ms/step - accuracy: 0.4306 - loss: 1.4186 - val_accuracy: 0.4583 - val_loss: 1.1529\n",
            "Epoch 10/50\n",
            "\u001b[1m63/63\u001b[0m \u001b[32m━━━━━━━━━━━━━━━━━━━━\u001b[0m\u001b[37m\u001b[0m \u001b[1m0s\u001b[0m 4ms/step - accuracy: 0.4668 - loss: 1.3759 - val_accuracy: 0.4491 - val_loss: 1.1426\n",
            "Epoch 11/50\n",
            "\u001b[1m63/63\u001b[0m \u001b[32m━━━━━━━━━━━━━━━━━━━━\u001b[0m\u001b[37m\u001b[0m \u001b[1m0s\u001b[0m 4ms/step - accuracy: 0.4474 - loss: 1.3391 - val_accuracy: 0.5046 - val_loss: 1.0858\n",
            "Epoch 12/50\n",
            "\u001b[1m63/63\u001b[0m \u001b[32m━━━━━━━━━━━━━━━━━━━━\u001b[0m\u001b[37m\u001b[0m \u001b[1m0s\u001b[0m 4ms/step - accuracy: 0.4222 - loss: 1.3794 - val_accuracy: 0.5139 - val_loss: 1.1340\n",
            "Epoch 13/50\n",
            "\u001b[1m63/63\u001b[0m \u001b[32m━━━━━━━━━━━━━━━━━━━━\u001b[0m\u001b[37m\u001b[0m \u001b[1m0s\u001b[0m 4ms/step - accuracy: 0.4461 - loss: 1.3450 - val_accuracy: 0.5231 - val_loss: 1.0918\n",
            "Epoch 14/50\n",
            "\u001b[1m63/63\u001b[0m \u001b[32m━━━━━━━━━━━━━━━━━━━━\u001b[0m\u001b[37m\u001b[0m \u001b[1m0s\u001b[0m 6ms/step - accuracy: 0.4404 - loss: 1.3109 - val_accuracy: 0.4444 - val_loss: 1.1655\n",
            "Epoch 15/50\n",
            "\u001b[1m63/63\u001b[0m \u001b[32m━━━━━━━━━━━━━━━━━━━━\u001b[0m\u001b[37m\u001b[0m \u001b[1m0s\u001b[0m 6ms/step - accuracy: 0.4563 - loss: 1.2780 - val_accuracy: 0.4907 - val_loss: 1.0910\n",
            "Epoch 16/50\n",
            "\u001b[1m63/63\u001b[0m \u001b[32m━━━━━━━━━━━━━━━━━━━━\u001b[0m\u001b[37m\u001b[0m \u001b[1m0s\u001b[0m 6ms/step - accuracy: 0.4480 - loss: 1.3288 - val_accuracy: 0.5556 - val_loss: 1.0258\n",
            "Epoch 17/50\n",
            "\u001b[1m63/63\u001b[0m \u001b[32m━━━━━━━━━━━━━━━━━━━━\u001b[0m\u001b[37m\u001b[0m \u001b[1m0s\u001b[0m 6ms/step - accuracy: 0.4855 - loss: 1.2268 - val_accuracy: 0.5602 - val_loss: 1.0420\n",
            "Epoch 18/50\n",
            "\u001b[1m63/63\u001b[0m \u001b[32m━━━━━━━━━━━━━━━━━━━━\u001b[0m\u001b[37m\u001b[0m \u001b[1m0s\u001b[0m 6ms/step - accuracy: 0.4781 - loss: 1.2701 - val_accuracy: 0.4954 - val_loss: 1.0884\n",
            "Epoch 19/50\n",
            "\u001b[1m63/63\u001b[0m \u001b[32m━━━━━━━━━━━━━━━━━━━━\u001b[0m\u001b[37m\u001b[0m \u001b[1m1s\u001b[0m 6ms/step - accuracy: 0.4896 - loss: 1.2643 - val_accuracy: 0.4861 - val_loss: 1.0870\n",
            "Epoch 20/50\n",
            "\u001b[1m63/63\u001b[0m \u001b[32m━━━━━━━━━━━━━━━━━━━━\u001b[0m\u001b[37m\u001b[0m \u001b[1m1s\u001b[0m 7ms/step - accuracy: 0.4988 - loss: 1.2118 - val_accuracy: 0.5231 - val_loss: 1.1433\n",
            "Epoch 21/50\n",
            "\u001b[1m63/63\u001b[0m \u001b[32m━━━━━━━━━━━━━━━━━━━━\u001b[0m\u001b[37m\u001b[0m \u001b[1m1s\u001b[0m 6ms/step - accuracy: 0.4282 - loss: 1.3477 - val_accuracy: 0.5648 - val_loss: 1.0962\n",
            "Epoch 22/50\n",
            "\u001b[1m63/63\u001b[0m \u001b[32m━━━━━━━━━━━━━━━━━━━━\u001b[0m\u001b[37m\u001b[0m \u001b[1m1s\u001b[0m 6ms/step - accuracy: 0.4906 - loss: 1.2563 - val_accuracy: 0.5185 - val_loss: 1.1029\n",
            "Epoch 23/50\n",
            "\u001b[1m63/63\u001b[0m \u001b[32m━━━━━━━━━━━━━━━━━━━━\u001b[0m\u001b[37m\u001b[0m \u001b[1m0s\u001b[0m 6ms/step - accuracy: 0.5252 - loss: 1.1780 - val_accuracy: 0.4815 - val_loss: 1.1904\n",
            "Epoch 24/50\n",
            "\u001b[1m63/63\u001b[0m \u001b[32m━━━━━━━━━━━━━━━━━━━━\u001b[0m\u001b[37m\u001b[0m \u001b[1m1s\u001b[0m 6ms/step - accuracy: 0.5031 - loss: 1.1718 - val_accuracy: 0.5185 - val_loss: 1.1260\n",
            "Epoch 25/50\n",
            "\u001b[1m63/63\u001b[0m \u001b[32m━━━━━━━━━━━━━━━━━━━━\u001b[0m\u001b[37m\u001b[0m \u001b[1m0s\u001b[0m 3ms/step - accuracy: 0.5020 - loss: 1.2080 - val_accuracy: 0.4444 - val_loss: 1.2350\n",
            "Epoch 26/50\n",
            "\u001b[1m63/63\u001b[0m \u001b[32m━━━━━━━━━━━━━━━━━━━━\u001b[0m\u001b[37m\u001b[0m \u001b[1m0s\u001b[0m 4ms/step - accuracy: 0.5023 - loss: 1.2071 - val_accuracy: 0.5046 - val_loss: 1.0811\n",
            "Epoch 27/50\n",
            "\u001b[1m63/63\u001b[0m \u001b[32m━━━━━━━━━━━━━━━━━━━━\u001b[0m\u001b[37m\u001b[0m \u001b[1m0s\u001b[0m 3ms/step - accuracy: 0.5523 - loss: 1.1385 - val_accuracy: 0.6111 - val_loss: 0.9352\n",
            "Epoch 28/50\n",
            "\u001b[1m63/63\u001b[0m \u001b[32m━━━━━━━━━━━━━━━━━━━━\u001b[0m\u001b[37m\u001b[0m \u001b[1m0s\u001b[0m 4ms/step - accuracy: 0.5036 - loss: 1.2181 - val_accuracy: 0.5185 - val_loss: 0.9851\n",
            "Epoch 29/50\n",
            "\u001b[1m63/63\u001b[0m \u001b[32m━━━━━━━━━━━━━━━━━━━━\u001b[0m\u001b[37m\u001b[0m \u001b[1m0s\u001b[0m 4ms/step - accuracy: 0.5356 - loss: 1.1600 - val_accuracy: 0.5509 - val_loss: 0.9589\n",
            "Epoch 30/50\n",
            "\u001b[1m63/63\u001b[0m \u001b[32m━━━━━━━━━━━━━━━━━━━━\u001b[0m\u001b[37m\u001b[0m \u001b[1m1s\u001b[0m 6ms/step - accuracy: 0.5165 - loss: 1.2276 - val_accuracy: 0.5509 - val_loss: 0.9817\n",
            "Epoch 31/50\n",
            "\u001b[1m63/63\u001b[0m \u001b[32m━━━━━━━━━━━━━━━━━━━━\u001b[0m\u001b[37m\u001b[0m \u001b[1m1s\u001b[0m 6ms/step - accuracy: 0.5141 - loss: 1.1857 - val_accuracy: 0.6019 - val_loss: 0.8977\n",
            "Epoch 32/50\n",
            "\u001b[1m63/63\u001b[0m \u001b[32m━━━━━━━━━━━━━━━━━━━━\u001b[0m\u001b[37m\u001b[0m \u001b[1m1s\u001b[0m 6ms/step - accuracy: 0.5088 - loss: 1.2222 - val_accuracy: 0.6204 - val_loss: 0.9810\n",
            "Epoch 33/50\n",
            "\u001b[1m63/63\u001b[0m \u001b[32m━━━━━━━━━━━━━━━━━━━━\u001b[0m\u001b[37m\u001b[0m \u001b[1m1s\u001b[0m 5ms/step - accuracy: 0.5440 - loss: 1.1564 - val_accuracy: 0.5417 - val_loss: 0.9682\n",
            "Epoch 34/50\n",
            "\u001b[1m63/63\u001b[0m \u001b[32m━━━━━━━━━━━━━━━━━━━━\u001b[0m\u001b[37m\u001b[0m \u001b[1m1s\u001b[0m 8ms/step - accuracy: 0.5100 - loss: 1.1285 - val_accuracy: 0.4907 - val_loss: 1.3935\n",
            "Epoch 35/50\n",
            "\u001b[1m63/63\u001b[0m \u001b[32m━━━━━━━━━━━━━━━━━━━━\u001b[0m\u001b[37m\u001b[0m \u001b[1m0s\u001b[0m 7ms/step - accuracy: 0.5317 - loss: 1.1263 - val_accuracy: 0.5648 - val_loss: 0.9562\n",
            "Epoch 36/50\n",
            "\u001b[1m63/63\u001b[0m \u001b[32m━━━━━━━━━━━━━━━━━━━━\u001b[0m\u001b[37m\u001b[0m \u001b[1m0s\u001b[0m 6ms/step - accuracy: 0.5156 - loss: 1.1510 - val_accuracy: 0.5741 - val_loss: 0.9718\n",
            "Epoch 37/50\n",
            "\u001b[1m63/63\u001b[0m \u001b[32m━━━━━━━━━━━━━━━━━━━━\u001b[0m\u001b[37m\u001b[0m \u001b[1m1s\u001b[0m 5ms/step - accuracy: 0.5635 - loss: 1.1167 - val_accuracy: 0.6065 - val_loss: 0.8972\n",
            "Epoch 38/50\n",
            "\u001b[1m63/63\u001b[0m \u001b[32m━━━━━━━━━━━━━━━━━━━━\u001b[0m\u001b[37m\u001b[0m \u001b[1m1s\u001b[0m 6ms/step - accuracy: 0.5674 - loss: 1.1356 - val_accuracy: 0.6111 - val_loss: 0.9031\n",
            "Epoch 39/50\n",
            "\u001b[1m63/63\u001b[0m \u001b[32m━━━━━━━━━━━━━━━━━━━━\u001b[0m\u001b[37m\u001b[0m \u001b[1m1s\u001b[0m 8ms/step - accuracy: 0.5306 - loss: 1.2581 - val_accuracy: 0.5972 - val_loss: 0.9475\n",
            "Epoch 40/50\n",
            "\u001b[1m63/63\u001b[0m \u001b[32m━━━━━━━━━━━━━━━━━━━━\u001b[0m\u001b[37m\u001b[0m \u001b[1m1s\u001b[0m 7ms/step - accuracy: 0.5327 - loss: 1.1455 - val_accuracy: 0.5324 - val_loss: 0.9914\n",
            "Epoch 41/50\n",
            "\u001b[1m63/63\u001b[0m \u001b[32m━━━━━━━━━━━━━━━━━━━━\u001b[0m\u001b[37m\u001b[0m \u001b[1m1s\u001b[0m 6ms/step - accuracy: 0.5070 - loss: 1.1772 - val_accuracy: 0.5648 - val_loss: 1.0390\n",
            "Epoch 42/50\n",
            "\u001b[1m63/63\u001b[0m \u001b[32m━━━━━━━━━━━━━━━━━━━━\u001b[0m\u001b[37m\u001b[0m \u001b[1m1s\u001b[0m 6ms/step - accuracy: 0.5813 - loss: 1.0958 - val_accuracy: 0.5880 - val_loss: 0.9720\n",
            "Epoch 43/50\n",
            "\u001b[1m63/63\u001b[0m \u001b[32m━━━━━━━━━━━━━━━━━━━━\u001b[0m\u001b[37m\u001b[0m \u001b[1m0s\u001b[0m 4ms/step - accuracy: 0.5624 - loss: 1.1308 - val_accuracy: 0.5972 - val_loss: 0.9001\n",
            "Epoch 44/50\n",
            "\u001b[1m63/63\u001b[0m \u001b[32m━━━━━━━━━━━━━━━━━━━━\u001b[0m\u001b[37m\u001b[0m \u001b[1m0s\u001b[0m 6ms/step - accuracy: 0.5430 - loss: 1.1189 - val_accuracy: 0.6111 - val_loss: 0.9007\n",
            "Epoch 45/50\n",
            "\u001b[1m63/63\u001b[0m \u001b[32m━━━━━━━━━━━━━━━━━━━━\u001b[0m\u001b[37m\u001b[0m \u001b[1m1s\u001b[0m 6ms/step - accuracy: 0.5356 - loss: 1.1230 - val_accuracy: 0.6019 - val_loss: 0.9143\n",
            "Epoch 46/50\n",
            "\u001b[1m63/63\u001b[0m \u001b[32m━━━━━━━━━━━━━━━━━━━━\u001b[0m\u001b[37m\u001b[0m \u001b[1m1s\u001b[0m 6ms/step - accuracy: 0.5479 - loss: 1.0983 - val_accuracy: 0.5694 - val_loss: 0.9316\n",
            "Epoch 47/50\n",
            "\u001b[1m63/63\u001b[0m \u001b[32m━━━━━━━━━━━━━━━━━━━━\u001b[0m\u001b[37m\u001b[0m \u001b[1m1s\u001b[0m 6ms/step - accuracy: 0.5585 - loss: 1.1432 - val_accuracy: 0.5185 - val_loss: 1.0595\n",
            "Epoch 48/50\n",
            "\u001b[1m63/63\u001b[0m \u001b[32m━━━━━━━━━━━━━━━━━━━━\u001b[0m\u001b[37m\u001b[0m \u001b[1m1s\u001b[0m 6ms/step - accuracy: 0.5443 - loss: 1.1129 - val_accuracy: 0.6296 - val_loss: 0.8663\n",
            "Epoch 49/50\n",
            "\u001b[1m63/63\u001b[0m \u001b[32m━━━━━━━━━━━━━━━━━━━━\u001b[0m\u001b[37m\u001b[0m \u001b[1m0s\u001b[0m 6ms/step - accuracy: 0.5200 - loss: 1.1566 - val_accuracy: 0.6065 - val_loss: 0.8874\n",
            "Epoch 50/50\n",
            "\u001b[1m63/63\u001b[0m \u001b[32m━━━━━━━━━━━━━━━━━━━━\u001b[0m\u001b[37m\u001b[0m \u001b[1m1s\u001b[0m 6ms/step - accuracy: 0.5542 - loss: 1.0835 - val_accuracy: 0.6204 - val_loss: 0.8812\n"
          ]
        }
      ]
    },
    {
      "cell_type": "code",
      "source": [
        "train_acc = model.evaluate(X_train, y_train, verbose=0)[1]\n",
        "test_acc = model.evaluate(X_test, y_test, verbose=0)[1]\n",
        "\n",
        "y_pred = np.argmax(model.predict(X_test), axis=1)\n",
        "\n",
        "print(f\"\\nTraining Accuracy: {train_acc * 100:.2f}%\")\n",
        "print(f\"Testing Accuracy: {test_acc * 100:.2f}%\")"
      ],
      "metadata": {
        "colab": {
          "base_uri": "https://localhost:8080/"
        },
        "id": "8xWs_DbJgioj",
        "outputId": "1b488954-7607-4c58-c1a7-39beaa6b2d98"
      },
      "execution_count": null,
      "outputs": [
        {
          "output_type": "stream",
          "name": "stdout",
          "text": [
            "\u001b[1m7/7\u001b[0m \u001b[32m━━━━━━━━━━━━━━━━━━━━\u001b[0m\u001b[37m\u001b[0m \u001b[1m0s\u001b[0m 15ms/step\n",
            "\n",
            "Training Accuracy: 67.06%\n",
            "Testing Accuracy: 62.50%\n"
          ]
        }
      ]
    },
    {
      "cell_type": "code",
      "source": [
        "report = classification_report(y_test, y_pred, target_names=encoder.classes_, output_dict=True)\n",
        "print(\"\\nClassification Report:\")\n",
        "print(pd.DataFrame(report).T)\n"
      ],
      "metadata": {
        "colab": {
          "base_uri": "https://localhost:8080/"
        },
        "id": "spnf6GGpgkfe",
        "outputId": "dfd9955f-193b-4183-e41d-28b99f50f83b"
      },
      "execution_count": null,
      "outputs": [
        {
          "output_type": "stream",
          "name": "stdout",
          "text": [
            "\n",
            "Classification Report:\n",
            "              precision    recall  f1-score  support\n",
            "angry          0.600000  0.777778  0.677419   27.000\n",
            "disgust        0.928571  0.481481  0.634146   27.000\n",
            "fear           0.590909  0.481481  0.530612   27.000\n",
            "happy          0.866667  0.481481  0.619048   27.000\n",
            "neutral        0.815789  0.574074  0.673913   54.000\n",
            "sad            0.462963  0.925926  0.617284   27.000\n",
            "surprise       0.500000  0.703704  0.584615   27.000\n",
            "accuracy       0.625000  0.625000  0.625000    0.625\n",
            "macro avg      0.680700  0.632275  0.619577  216.000\n",
            "weighted avg   0.697586  0.625000  0.626369  216.000\n"
          ]
        }
      ]
    },
    {
      "cell_type": "code",
      "source": [
        "performance_df = pd.DataFrame(report).T\n",
        "best_emotion = performance_df.loc[performance_df['f1-score'].idxmax()]\n",
        "print(\"\\nBest Performing Emotion:\")\n",
        "print(best_emotion)\n"
      ],
      "metadata": {
        "colab": {
          "base_uri": "https://localhost:8080/"
        },
        "id": "DuNDXS5LgrQc",
        "outputId": "bfe1a4b2-42ba-4b9d-ce6f-dcbcf2974bbc"
      },
      "execution_count": null,
      "outputs": [
        {
          "output_type": "stream",
          "name": "stdout",
          "text": [
            "\n",
            "Best Performing Emotion:\n",
            "precision     0.600000\n",
            "recall        0.777778\n",
            "f1-score      0.677419\n",
            "support      27.000000\n",
            "Name: angry, dtype: float64\n"
          ]
        }
      ]
    },
    {
      "cell_type": "code",
      "source": [
        "conf_matrix = confusion_matrix(y_test, y_pred)\n",
        "plt.figure(figsize=(10, 8))\n",
        "sns.heatmap(conf_matrix, annot=True, fmt='d', xticklabels=encoder.classes_, yticklabels=encoder.classes_, cmap='Blues')\n",
        "plt.title(\"Confusion Matrix\")\n",
        "plt.xlabel(\"Predicted Label\")\n",
        "plt.ylabel(\"True Label\")\n",
        "plt.show()"
      ],
      "metadata": {
        "colab": {
          "base_uri": "https://localhost:8080/",
          "height": 594
        },
        "id": "AfaaKyxYgtNm",
        "outputId": "7ee77b35-29d1-44f4-866a-2346770baa65"
      },
      "execution_count": null,
      "outputs": [
        {
          "output_type": "display_data",
          "data": {
            "text/plain": [
              "<Figure size 1000x800 with 2 Axes>"
            ],
            "image/png": "[encoded data removed]"
          },
          "metadata": {}
        }
      ]
    },
    {
      "cell_type": "code",
      "source": [
        "model.save(\"emotion_model.h5\")"
      ],
      "metadata": {
        "id": "pnuA2_Nmmswn"
      },
      "execution_count": null,
      "outputs": []
    }
  ]
}
